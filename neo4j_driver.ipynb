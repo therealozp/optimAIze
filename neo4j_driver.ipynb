{
 "cells": [
  {
   "cell_type": "code",
   "execution_count": 7,
   "metadata": {},
   "outputs": [],
   "source": [
    "from neo4j import GraphDatabase\n",
    "import pandas as pd\n",
    "\n",
    "driver = GraphDatabase.driver(\"bolt://localhost:7687\", auth=(\"neo4j\", \"passwd123\"))"
   ]
  },
  {
   "cell_type": "code",
   "execution_count": 8,
   "metadata": {},
   "outputs": [
    {
     "data": {
      "text/plain": [
       "Index(['software development', 'web development', 'mobile development',\n",
       "       'cloud computing', 'devops', 'networking', 'cybersecurity',\n",
       "       'data science', 'machine learning', 'data engineering',\n",
       "       'system administration', 'quality assurance', 'project management',\n",
       "       'ui design', 'systems architecture', 'game development', 'soft skills',\n",
       "       'certifications', 'compliance'],\n",
       "      dtype='object')"
      ]
     },
     "execution_count": 8,
     "metadata": {},
     "output_type": "execute_result"
    }
   ],
   "source": [
    "df = pd.read_csv('skills_with_tags.csv')\n",
    "\n",
    "FIELDS = df.columns[1:]\n",
    "FIELDS"
   ]
  },
  {
   "cell_type": "code",
   "execution_count": 9,
   "metadata": {},
   "outputs": [],
   "source": [
    "def create_node(tx, skill, **kwargs):\n",
    "    query = \"CREATE (s:Skill {name: $skill})\"\n",
    "    tx.run(query, skill=skill)\n",
    "\n",
    "def create_category(tx, category, **kwargs):\n",
    "    query = \"CREATE (c:Category {name: $category})\"\n",
    "    tx.run(query, category=category)\n",
    "\n",
    "def initialize_category(tx):\n",
    "    for field in FIELDS:\n",
    "        create_category(tx, field)\n",
    "    print('Categories initialized.')\n",
    "\n",
    "def merge_relationships(tx, skill, category, relevance_level, **kwargs):\n",
    "    if relevance_level == 0:\n",
    "        return\n",
    "    query = \"\"\"\n",
    "    MATCH (s:Skill {name: $skill}), (c:Category {name: $category})\n",
    "    MERGE (s)-[r:RELEVANT_TO]->(c)\n",
    "    ON CREATE SET r.relevance = $relevance_level\n",
    "    \"\"\"\n",
    "    tx.run(query, skill=skill, category=category, relevance_level=int(relevance_level))"
   ]
  },
  {
   "cell_type": "code",
   "execution_count": 10,
   "metadata": {},
   "outputs": [
    {
     "name": "stdout",
     "output_type": "stream",
     "text": [
      "Categories initialized.\n"
     ]
    }
   ],
   "source": [
    "with driver.session() as session:\n",
    "    session.execute_write(initialize_category)"
   ]
  },
  {
   "cell_type": "code",
   "execution_count": null,
   "metadata": {},
   "outputs": [],
   "source": [
    "import csv\n",
    "\n",
    "# Open CSV and create skill nodes and relationships\n",
    "with open('skills_with_tags.csv', newline='') as csvfile:\n",
    "    reader = csv.DictReader(csvfile)\n",
    "    for row in reader:\n",
    "        skill_name = row[\"skill name\"]\n",
    "        \n",
    "        # Create skill node\n",
    "        session.execute_write(create_node, skill_name)\n",
    "        \n",
    "        # For each category, create a relationship if relevant\n",
    "        for category in FIELDS:\n",
    "            relevance_level = row[category]\n",
    "            session.execute_write(merge_relationships, skill_name, category, relevance_level)\n"
   ]
  },
  {
   "cell_type": "code",
   "execution_count": 11,
   "metadata": {},
   "outputs": [],
   "source": [
    "driver.close()"
   ]
  }
 ],
 "metadata": {
  "kernelspec": {
   "display_name": ".venv",
   "language": "python",
   "name": "python3"
  },
  "language_info": {
   "codemirror_mode": {
    "name": "ipython",
    "version": 3
   },
   "file_extension": ".py",
   "mimetype": "text/x-python",
   "name": "python",
   "nbconvert_exporter": "python",
   "pygments_lexer": "ipython3",
   "version": "3.12.7"
  }
 },
 "nbformat": 4,
 "nbformat_minor": 2
}
