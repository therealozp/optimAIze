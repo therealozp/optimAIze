{
 "cells": [
  {
   "cell_type": "code",
   "execution_count": 6,
   "metadata": {},
   "outputs": [],
   "source": [
    "import pandas as pd"
   ]
  },
  {
   "cell_type": "code",
   "execution_count": 7,
   "metadata": {},
   "outputs": [],
   "source": [
    "df = pd.read_csv('baseline_taxonomies/survey_results_public.csv')"
   ]
  },
  {
   "cell_type": "code",
   "execution_count": 8,
   "metadata": {},
   "outputs": [
    {
     "name": "stderr",
     "output_type": "stream",
     "text": [
      "[nltk_data] Downloading package punkt to\n",
      "[nltk_data]     C:\\Users\\leanh\\AppData\\Roaming\\nltk_data...\n",
      "[nltk_data]   Package punkt is already up-to-date!\n",
      "[nltk_data] Downloading package wordnet to\n",
      "[nltk_data]     C:\\Users\\leanh\\AppData\\Roaming\\nltk_data...\n",
      "[nltk_data]   Package wordnet is already up-to-date!\n"
     ]
    }
   ],
   "source": [
    "import re\n",
    "import nltk\n",
    "from nltk.corpus import wordnet\n",
    "from nltk.stem import WordNetLemmatizer\n",
    "\n",
    "# Ensure NLTK resources are available\n",
    "nltk.download(\"punkt\")\n",
    "nltk.download(\"wordnet\")\n",
    "\n",
    "# Initialize lemmatizer\n",
    "lemmatizer = WordNetLemmatizer()\n",
    "\n",
    "\n",
    "# Function to get part of speech for accurate lemmatization\n",
    "def get_wordnet_pos(word):\n",
    "    \"\"\"Map POS tag to first character accepted by WordNetLemmatizer.\"\"\"\n",
    "    tag = nltk.pos_tag([word])[0][1][0].upper()\n",
    "    tag_dict = {\n",
    "        \"J\": wordnet.ADJ,\n",
    "        \"N\": wordnet.NOUN,\n",
    "        \"V\": wordnet.VERB,\n",
    "        \"R\": wordnet.ADV,\n",
    "    }\n",
    "    return tag_dict.get(tag, wordnet.NOUN)\n",
    "\n",
    "\n",
    "def process_skill(s, lemmatize=True):\n",
    "    # Remove special characters and extra whitespace\n",
    "    s = s.lower()\n",
    "    s = re.sub(r\"[^A-Za-z0-9\\s]\", \"\", s)  # Keep only alphanumeric and spaces\n",
    "    s = s.strip()  # Remove leading/trailing spaces\n",
    "\n",
    "    # Tokenize and lemmatize (if lemmatize is True)\n",
    "    if lemmatize:\n",
    "        tokens = nltk.word_tokenize(s)\n",
    "        lemmatized_tokens = [\n",
    "            lemmatizer.lemmatize(token, get_wordnet_pos(token)) for token in tokens\n",
    "        ]\n",
    "        s = \" \".join(lemmatized_tokens)  # Join tokens back into a single string\n",
    "\n",
    "    return s"
   ]
  },
  {
   "cell_type": "code",
   "execution_count": 9,
   "metadata": {},
   "outputs": [],
   "source": [
    "with open('baseline_taxonomies/take_columns.txt', 'r') as f:\n",
    "    take_columns = f.readlines()\n",
    "    for i in range(len(take_columns)):\n",
    "        take_columns[i] = take_columns[i].strip()"
   ]
  },
  {
   "cell_type": "code",
   "execution_count": null,
   "metadata": {},
   "outputs": [],
   "source": [
    "skills_set = set()\n",
    "for idx, row in df.iterrows():\n",
    "    for col in take_columns:\n",
    "        if row[col] == 'NA':\n",
    "            continue\n",
    "        else:\n",
    "            skills = str(row[col]).split(';')\n",
    "            for skill in skills:\n",
    "                skills_set.add(skill)"
   ]
  },
  {
   "cell_type": "code",
   "execution_count": null,
   "metadata": {},
   "outputs": [],
   "source": [
    "lidf = pd.read_csv(\"baseline_taxonomies/linkedinskills.csv\")\n",
    "for idx, row in lidf.iterrows():\n",
    "    role = row[\"Field\"]\n",
    "    skills = row[\"Skills\"].split(\",\")\n",
    "    for skill in skills:\n",
    "        skills_set.add(skill)\n",
    "    skills_set.add(role)"
   ]
  },
  {
   "cell_type": "code",
   "execution_count": 12,
   "metadata": {},
   "outputs": [],
   "source": [
    "with open(\"baseline_taxonomies/skills.txt\", \"w\") as f:\n",
    "    for item in sorted(list(skills_set)):\n",
    "        f.write(\"%s\\n\" % item.lower())"
   ]
  }
 ],
 "metadata": {
  "kernelspec": {
   "display_name": ".venv",
   "language": "python",
   "name": "python3"
  },
  "language_info": {
   "codemirror_mode": {
    "name": "ipython",
    "version": 3
   },
   "file_extension": ".py",
   "mimetype": "text/x-python",
   "name": "python",
   "nbconvert_exporter": "python",
   "pygments_lexer": "ipython3",
   "version": "3.12.7"
  }
 },
 "nbformat": 4,
 "nbformat_minor": 2
}
